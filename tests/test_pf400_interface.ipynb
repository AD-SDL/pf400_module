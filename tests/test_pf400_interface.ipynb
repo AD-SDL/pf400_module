{
 "cells": [
  {
   "cell_type": "code",
   "execution_count": null,
   "id": "0",
   "metadata": {},
   "outputs": [],
   "source": [
    "from pf400_interface.pf400 import PF400"
   ]
  },
  {
   "cell_type": "code",
   "execution_count": null,
   "id": "1",
   "metadata": {},
   "outputs": [],
   "source": [
    "pf400 = PF400(host=\"rplpf400.cels.anl.gov\")\n",
    "pf400.initialize_robot()\n",
    "pf400.get_robot_movement_state()"
   ]
  },
  {
   "cell_type": "code",
   "execution_count": null,
   "id": "2",
   "metadata": {},
   "outputs": [],
   "source": [
    "from operator import add\n",
    "\n",
    "from madsci.common.types.location_types import LocationArgument\n",
    "\n",
    "location = LocationArgument(\n",
    "    location_name=\"source\", location=[94.597, 26.416, 66.422, 714.811, 81.916, 995.074]\n",
    ")\n",
    "above_position = list(map(add, location.location, pf400.default_approach_vector))"
   ]
  },
  {
   "cell_type": "code",
   "execution_count": null,
   "id": "3",
   "metadata": {},
   "outputs": [],
   "source": [
    "pf400.open_gripper(pf400.gripper_open_wide)\n",
    "pf400.close_gripper(pf400.gripper_close_narrow)"
   ]
  },
  {
   "cell_type": "code",
   "execution_count": null,
   "id": "4",
   "metadata": {},
   "outputs": [],
   "source": [
    "pf400.grip_wide = False\n",
    "pf400.pick_plate(location)\n",
    "pf400.place_plate(location)"
   ]
  },
  {
   "cell_type": "code",
   "execution_count": null,
   "id": "5",
   "metadata": {},
   "outputs": [],
   "source": [
    "pf400.transfer(source=location, target=location)"
   ]
  },
  {
   "cell_type": "code",
   "execution_count": null,
   "id": "6",
   "metadata": {},
   "outputs": [],
   "source": [
    "pf400.disconnect()"
   ]
  }
 ],
 "metadata": {
  "kernelspec": {
   "display_name": ".venv",
   "language": "python",
   "name": "python3"
  },
  "language_info": {
   "codemirror_mode": {
    "name": "ipython",
    "version": 3
   },
   "file_extension": ".py",
   "mimetype": "text/x-python",
   "name": "python",
   "nbconvert_exporter": "python",
   "pygments_lexer": "ipython3",
   "version": "3.12.3"
  }
 },
 "nbformat": 4,
 "nbformat_minor": 5
}
